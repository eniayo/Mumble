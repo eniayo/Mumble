{
  "nbformat": 4,
  "nbformat_minor": 0,
  "metadata": {
    "colab": {
      "name": "Animal-Bites.ipynb",
      "provenance": [],
      "authorship_tag": "ABX9TyN2B+ZIjRnNLsDSaXzoU/yo",
      "include_colab_link": true
    },
    "kernelspec": {
      "name": "python3",
      "display_name": "Python 3"
    },
    "language_info": {
      "name": "python"
    }
  },
  "cells": [
    {
      "cell_type": "markdown",
      "metadata": {
        "id": "view-in-github",
        "colab_type": "text"
      },
      "source": [
        "<a href=\"https://colab.research.google.com/github/eniayo/Mumble/blob/master/Animal_Bites.ipynb\" target=\"_parent\"><img src=\"https://colab.research.google.com/assets/colab-badge.svg\" alt=\"Open In Colab\"/></a>"
      ]
    },
    {
      "cell_type": "code",
      "execution_count": 39,
      "metadata": {
        "id": "7NwC8_AjZiBF"
      },
      "outputs": [],
      "source": [
        "# Jovian Commit Essentials\n",
        "# Please retain and execute this cell without modifying the contents for `jovian.commit` to work\n",
        "!pip install jovian --upgrade -q\n",
        "import jovian\n",
        "jovian.set_project('animal-bites')\n",
        "jovian.set_colab_id('1xHweX3NQk2L9tBd6FvFnfPROptjSEvKo')"
      ]
    },
    {
      "cell_type": "code",
      "source": [
        ""
      ],
      "metadata": {
        "id": "aZWu4xGDbSkM"
      },
      "execution_count": 1,
      "outputs": []
    },
    {
      "cell_type": "markdown",
      "source": [
        "Animal Bites\n",
        "\n",
        "TODO - Talk about EDA TODO - talk about the dataset (source, what it contains, how it will be useful)\n",
        "\n",
        "Kaggle\n",
        "Information about animal bites\n",
        "Can be useful to prevent bites\n",
        "This does not contain data about all animals"
      ],
      "metadata": {
        "id": "oPBUBxw5a8mm"
      }
    },
    {
      "cell_type": "code",
      "source": [
        "pip install opendatasets --upgrade --quiet\n"
      ],
      "metadata": {
        "id": "Lsf39ly_axq0"
      },
      "execution_count": 2,
      "outputs": []
    },
    {
      "cell_type": "code",
      "source": [
        "import opendatasets as od\n",
        "\n",
        "download_url = 'https://www.kaggle.com/datasets/rtatman/animal-bites'\n",
        "\n",
        "od.download(download_url)"
      ],
      "metadata": {
        "colab": {
          "base_uri": "https://localhost:8080/"
        },
        "id": "2tzfVgS0axnT",
        "outputId": "ea64c702-2ca1-4d10-8093-6ac29c147e34"
      },
      "execution_count": 40,
      "outputs": [
        {
          "output_type": "stream",
          "name": "stdout",
          "text": [
            "Skipping, found downloaded files in \"./animal-bites\" (use force=True to force download)\n"
          ]
        }
      ]
    },
    {
      "cell_type": "code",
      "source": [
        "force=True"
      ],
      "metadata": {
        "id": "UKLuup9AoEgu"
      },
      "execution_count": 41,
      "outputs": []
    },
    {
      "cell_type": "code",
      "source": [
        "data_dir = './animal-bites/Health_AnimalBites.csv'"
      ],
      "metadata": {
        "id": "-kDBJPAWaxkY"
      },
      "execution_count": 4,
      "outputs": []
    },
    {
      "cell_type": "markdown",
      "source": [
        "Download the Data\n"
      ],
      "metadata": {
        "id": "L2vVRbTgnu-G"
      }
    },
    {
      "cell_type": "markdown",
      "source": [
        "*   Data Preparation and Cleaning \n",
        "*   Load the file using Pandas\n",
        "*   Look at some information about the data and the columns\n",
        "*   Fix any missing or incorrect values\n",
        "\n",
        "\n",
        "\n"
      ],
      "metadata": {
        "id": "7FcZja2-n7LM"
      }
    },
    {
      "cell_type": "code",
      "source": [
        "project_name = \"health-animal-bites\""
      ],
      "metadata": {
        "id": "eX_7gaC17nnF"
      },
      "execution_count": 5,
      "outputs": []
    },
    {
      "cell_type": "code",
      "source": [
        "import jovian "
      ],
      "metadata": {
        "id": "QQ_iw3yv7Jo9"
      },
      "execution_count": 6,
      "outputs": []
    },
    {
      "cell_type": "code",
      "source": [
        "jovian.commit(project=project_name)"
      ],
      "metadata": {
        "colab": {
          "base_uri": "https://localhost:8080/",
          "height": 122
        },
        "id": "NtK3RJFC7hbw",
        "outputId": "cc818c04-8a6e-4c44-97ab-a2c6f82f7e2a"
      },
      "execution_count": 7,
      "outputs": [
        {
          "output_type": "stream",
          "name": "stdout",
          "text": [
            "[jovian] Detected Colab notebook...\u001b[0m\n",
            "[jovian] Please enter your API key ( from https://jovian.ai/ ):\u001b[0m\n",
            "API KEY: ··········\n",
            "[jovian] Uploading colab notebook to Jovian...\u001b[0m\n",
            "Committed successfully! https://jovian.ai/eniayoadediran/health-animal-bites\n"
          ]
        },
        {
          "output_type": "execute_result",
          "data": {
            "text/plain": [
              "'https://jovian.ai/eniayoadediran/health-animal-bites'"
            ],
            "application/vnd.google.colaboratory.intrinsic+json": {
              "type": "string"
            }
          },
          "metadata": {},
          "execution_count": 7
        }
      ]
    },
    {
      "cell_type": "code",
      "source": [
        "pip install pandas"
      ],
      "metadata": {
        "colab": {
          "base_uri": "https://localhost:8080/"
        },
        "id": "SLlgHIu5axiH",
        "outputId": "d6745d6a-1507-4396-8a55-39cfeaeca08b"
      },
      "execution_count": 8,
      "outputs": [
        {
          "output_type": "stream",
          "name": "stdout",
          "text": [
            "Requirement already satisfied: pandas in /usr/local/lib/python3.7/dist-packages (1.3.5)\n",
            "Requirement already satisfied: pytz>=2017.3 in /usr/local/lib/python3.7/dist-packages (from pandas) (2022.1)\n",
            "Requirement already satisfied: python-dateutil>=2.7.3 in /usr/local/lib/python3.7/dist-packages (from pandas) (2.8.2)\n",
            "Requirement already satisfied: numpy>=1.17.3 in /usr/local/lib/python3.7/dist-packages (from pandas) (1.21.6)\n",
            "Requirement already satisfied: six>=1.5 in /usr/local/lib/python3.7/dist-packages (from python-dateutil>=2.7.3->pandas) (1.15.0)\n"
          ]
        }
      ]
    },
    {
      "cell_type": "code",
      "source": [
        "import pandas as pd"
      ],
      "metadata": {
        "id": "Sr1qs-kKaxe4"
      },
      "execution_count": 9,
      "outputs": []
    },
    {
      "cell_type": "code",
      "source": [
        "data = pd.read_csv(data_dir)"
      ],
      "metadata": {
        "id": "YgxYH1JkaxdX"
      },
      "execution_count": 10,
      "outputs": []
    },
    {
      "cell_type": "code",
      "source": [
        "data"
      ],
      "metadata": {
        "colab": {
          "base_uri": "https://localhost:8080/",
          "height": 661
        },
        "id": "YoEKunpoaxbA",
        "outputId": "00efde2d-2e43-4d12-92c4-0e41e5d17c7e"
      },
      "execution_count": 11,
      "outputs": [
        {
          "output_type": "execute_result",
          "data": {
            "text/plain": [
              "                bite_date SpeciesIDDesc      BreedIDDesc GenderIDDesc  \\\n",
              "0     1985-05-05 00:00:00           DOG              NaN       FEMALE   \n",
              "1     1986-02-12 00:00:00           DOG              NaN      UNKNOWN   \n",
              "2     1987-05-07 00:00:00           DOG              NaN      UNKNOWN   \n",
              "3     1988-10-02 00:00:00           DOG              NaN         MALE   \n",
              "4     1989-08-29 00:00:00           DOG              NaN       FEMALE   \n",
              "...                   ...           ...              ...          ...   \n",
              "8998  2017-09-05 00:00:00           DOG              NaN          NaN   \n",
              "8999  2017-09-07 00:00:00           DOG       POMERANIAN         MALE   \n",
              "9000  2017-09-07 00:00:00           DOG  LABRADOR RETRIV         MALE   \n",
              "9001  2017-09-07 00:00:00           DOG  LABRADOR RETRIV       FEMALE   \n",
              "9002  2017-09-07 00:00:00           DOG            BOXER          NaN   \n",
              "\n",
              "           color  vaccination_yrs     vaccination_date victim_zip  \\\n",
              "0     LIG. BROWN              1.0  1985-06-20 00:00:00      40229   \n",
              "1      BRO & BLA              NaN                  NaN      40218   \n",
              "2            NaN              NaN                  NaN      40219   \n",
              "3      BLA & BRO              NaN                  NaN        NaN   \n",
              "4        BLK-WHT              NaN                  NaN        NaN   \n",
              "...          ...              ...                  ...        ...   \n",
              "8998         NaN              NaN                  NaN      40243   \n",
              "8999         RED              NaN                  NaN      40204   \n",
              "9000       BROWN              NaN                  NaN      47130   \n",
              "9001     BLK WHT              NaN                  NaN      40229   \n",
              "9002     BRN BLK              NaN                  NaN      40229   \n",
              "\n",
              "     AdvIssuedYNDesc WhereBittenIDDesc      quarantine_date DispositionIDDesc  \\\n",
              "0                 NO              BODY  1985-05-05 00:00:00           UNKNOWN   \n",
              "1                 NO              BODY  1986-02-12 00:00:00           UNKNOWN   \n",
              "2                 NO              BODY  1990-05-07 00:00:00           UNKNOWN   \n",
              "3                 NO              BODY  1990-10-02 00:00:00           UNKNOWN   \n",
              "4                 NO              BODY                  NaN           UNKNOWN   \n",
              "...              ...               ...                  ...               ...   \n",
              "8998             NaN           UNKNOWN                  NaN               NaN   \n",
              "8999             NaN              HEAD                  NaN               NaN   \n",
              "9000             NaN           UNKNOWN                  NaN               NaN   \n",
              "9001             NaN              BODY                  NaN               NaN   \n",
              "9002             NaN              BODY                  NaN               NaN   \n",
              "\n",
              "     head_sent_date release_date ResultsIDDesc  \n",
              "0               NaN          NaN       UNKNOWN  \n",
              "1               NaN          NaN       UNKNOWN  \n",
              "2               NaN          NaN       UNKNOWN  \n",
              "3               NaN          NaN       UNKNOWN  \n",
              "4               NaN          NaN       UNKNOWN  \n",
              "...             ...          ...           ...  \n",
              "8998            NaN          NaN           NaN  \n",
              "8999            NaN          NaN           NaN  \n",
              "9000            NaN          NaN           NaN  \n",
              "9001            NaN          NaN           NaN  \n",
              "9002            NaN          NaN           NaN  \n",
              "\n",
              "[9003 rows x 15 columns]"
            ],
            "text/html": [
              "\n",
              "  <div id=\"df-fadc6d6b-d91e-4f22-9f2a-80c48f59b777\">\n",
              "    <div class=\"colab-df-container\">\n",
              "      <div>\n",
              "<style scoped>\n",
              "    .dataframe tbody tr th:only-of-type {\n",
              "        vertical-align: middle;\n",
              "    }\n",
              "\n",
              "    .dataframe tbody tr th {\n",
              "        vertical-align: top;\n",
              "    }\n",
              "\n",
              "    .dataframe thead th {\n",
              "        text-align: right;\n",
              "    }\n",
              "</style>\n",
              "<table border=\"1\" class=\"dataframe\">\n",
              "  <thead>\n",
              "    <tr style=\"text-align: right;\">\n",
              "      <th></th>\n",
              "      <th>bite_date</th>\n",
              "      <th>SpeciesIDDesc</th>\n",
              "      <th>BreedIDDesc</th>\n",
              "      <th>GenderIDDesc</th>\n",
              "      <th>color</th>\n",
              "      <th>vaccination_yrs</th>\n",
              "      <th>vaccination_date</th>\n",
              "      <th>victim_zip</th>\n",
              "      <th>AdvIssuedYNDesc</th>\n",
              "      <th>WhereBittenIDDesc</th>\n",
              "      <th>quarantine_date</th>\n",
              "      <th>DispositionIDDesc</th>\n",
              "      <th>head_sent_date</th>\n",
              "      <th>release_date</th>\n",
              "      <th>ResultsIDDesc</th>\n",
              "    </tr>\n",
              "  </thead>\n",
              "  <tbody>\n",
              "    <tr>\n",
              "      <th>0</th>\n",
              "      <td>1985-05-05 00:00:00</td>\n",
              "      <td>DOG</td>\n",
              "      <td>NaN</td>\n",
              "      <td>FEMALE</td>\n",
              "      <td>LIG. BROWN</td>\n",
              "      <td>1.0</td>\n",
              "      <td>1985-06-20 00:00:00</td>\n",
              "      <td>40229</td>\n",
              "      <td>NO</td>\n",
              "      <td>BODY</td>\n",
              "      <td>1985-05-05 00:00:00</td>\n",
              "      <td>UNKNOWN</td>\n",
              "      <td>NaN</td>\n",
              "      <td>NaN</td>\n",
              "      <td>UNKNOWN</td>\n",
              "    </tr>\n",
              "    <tr>\n",
              "      <th>1</th>\n",
              "      <td>1986-02-12 00:00:00</td>\n",
              "      <td>DOG</td>\n",
              "      <td>NaN</td>\n",
              "      <td>UNKNOWN</td>\n",
              "      <td>BRO &amp; BLA</td>\n",
              "      <td>NaN</td>\n",
              "      <td>NaN</td>\n",
              "      <td>40218</td>\n",
              "      <td>NO</td>\n",
              "      <td>BODY</td>\n",
              "      <td>1986-02-12 00:00:00</td>\n",
              "      <td>UNKNOWN</td>\n",
              "      <td>NaN</td>\n",
              "      <td>NaN</td>\n",
              "      <td>UNKNOWN</td>\n",
              "    </tr>\n",
              "    <tr>\n",
              "      <th>2</th>\n",
              "      <td>1987-05-07 00:00:00</td>\n",
              "      <td>DOG</td>\n",
              "      <td>NaN</td>\n",
              "      <td>UNKNOWN</td>\n",
              "      <td>NaN</td>\n",
              "      <td>NaN</td>\n",
              "      <td>NaN</td>\n",
              "      <td>40219</td>\n",
              "      <td>NO</td>\n",
              "      <td>BODY</td>\n",
              "      <td>1990-05-07 00:00:00</td>\n",
              "      <td>UNKNOWN</td>\n",
              "      <td>NaN</td>\n",
              "      <td>NaN</td>\n",
              "      <td>UNKNOWN</td>\n",
              "    </tr>\n",
              "    <tr>\n",
              "      <th>3</th>\n",
              "      <td>1988-10-02 00:00:00</td>\n",
              "      <td>DOG</td>\n",
              "      <td>NaN</td>\n",
              "      <td>MALE</td>\n",
              "      <td>BLA &amp; BRO</td>\n",
              "      <td>NaN</td>\n",
              "      <td>NaN</td>\n",
              "      <td>NaN</td>\n",
              "      <td>NO</td>\n",
              "      <td>BODY</td>\n",
              "      <td>1990-10-02 00:00:00</td>\n",
              "      <td>UNKNOWN</td>\n",
              "      <td>NaN</td>\n",
              "      <td>NaN</td>\n",
              "      <td>UNKNOWN</td>\n",
              "    </tr>\n",
              "    <tr>\n",
              "      <th>4</th>\n",
              "      <td>1989-08-29 00:00:00</td>\n",
              "      <td>DOG</td>\n",
              "      <td>NaN</td>\n",
              "      <td>FEMALE</td>\n",
              "      <td>BLK-WHT</td>\n",
              "      <td>NaN</td>\n",
              "      <td>NaN</td>\n",
              "      <td>NaN</td>\n",
              "      <td>NO</td>\n",
              "      <td>BODY</td>\n",
              "      <td>NaN</td>\n",
              "      <td>UNKNOWN</td>\n",
              "      <td>NaN</td>\n",
              "      <td>NaN</td>\n",
              "      <td>UNKNOWN</td>\n",
              "    </tr>\n",
              "    <tr>\n",
              "      <th>...</th>\n",
              "      <td>...</td>\n",
              "      <td>...</td>\n",
              "      <td>...</td>\n",
              "      <td>...</td>\n",
              "      <td>...</td>\n",
              "      <td>...</td>\n",
              "      <td>...</td>\n",
              "      <td>...</td>\n",
              "      <td>...</td>\n",
              "      <td>...</td>\n",
              "      <td>...</td>\n",
              "      <td>...</td>\n",
              "      <td>...</td>\n",
              "      <td>...</td>\n",
              "      <td>...</td>\n",
              "    </tr>\n",
              "    <tr>\n",
              "      <th>8998</th>\n",
              "      <td>2017-09-05 00:00:00</td>\n",
              "      <td>DOG</td>\n",
              "      <td>NaN</td>\n",
              "      <td>NaN</td>\n",
              "      <td>NaN</td>\n",
              "      <td>NaN</td>\n",
              "      <td>NaN</td>\n",
              "      <td>40243</td>\n",
              "      <td>NaN</td>\n",
              "      <td>UNKNOWN</td>\n",
              "      <td>NaN</td>\n",
              "      <td>NaN</td>\n",
              "      <td>NaN</td>\n",
              "      <td>NaN</td>\n",
              "      <td>NaN</td>\n",
              "    </tr>\n",
              "    <tr>\n",
              "      <th>8999</th>\n",
              "      <td>2017-09-07 00:00:00</td>\n",
              "      <td>DOG</td>\n",
              "      <td>POMERANIAN</td>\n",
              "      <td>MALE</td>\n",
              "      <td>RED</td>\n",
              "      <td>NaN</td>\n",
              "      <td>NaN</td>\n",
              "      <td>40204</td>\n",
              "      <td>NaN</td>\n",
              "      <td>HEAD</td>\n",
              "      <td>NaN</td>\n",
              "      <td>NaN</td>\n",
              "      <td>NaN</td>\n",
              "      <td>NaN</td>\n",
              "      <td>NaN</td>\n",
              "    </tr>\n",
              "    <tr>\n",
              "      <th>9000</th>\n",
              "      <td>2017-09-07 00:00:00</td>\n",
              "      <td>DOG</td>\n",
              "      <td>LABRADOR RETRIV</td>\n",
              "      <td>MALE</td>\n",
              "      <td>BROWN</td>\n",
              "      <td>NaN</td>\n",
              "      <td>NaN</td>\n",
              "      <td>47130</td>\n",
              "      <td>NaN</td>\n",
              "      <td>UNKNOWN</td>\n",
              "      <td>NaN</td>\n",
              "      <td>NaN</td>\n",
              "      <td>NaN</td>\n",
              "      <td>NaN</td>\n",
              "      <td>NaN</td>\n",
              "    </tr>\n",
              "    <tr>\n",
              "      <th>9001</th>\n",
              "      <td>2017-09-07 00:00:00</td>\n",
              "      <td>DOG</td>\n",
              "      <td>LABRADOR RETRIV</td>\n",
              "      <td>FEMALE</td>\n",
              "      <td>BLK WHT</td>\n",
              "      <td>NaN</td>\n",
              "      <td>NaN</td>\n",
              "      <td>40229</td>\n",
              "      <td>NaN</td>\n",
              "      <td>BODY</td>\n",
              "      <td>NaN</td>\n",
              "      <td>NaN</td>\n",
              "      <td>NaN</td>\n",
              "      <td>NaN</td>\n",
              "      <td>NaN</td>\n",
              "    </tr>\n",
              "    <tr>\n",
              "      <th>9002</th>\n",
              "      <td>2017-09-07 00:00:00</td>\n",
              "      <td>DOG</td>\n",
              "      <td>BOXER</td>\n",
              "      <td>NaN</td>\n",
              "      <td>BRN BLK</td>\n",
              "      <td>NaN</td>\n",
              "      <td>NaN</td>\n",
              "      <td>40229</td>\n",
              "      <td>NaN</td>\n",
              "      <td>BODY</td>\n",
              "      <td>NaN</td>\n",
              "      <td>NaN</td>\n",
              "      <td>NaN</td>\n",
              "      <td>NaN</td>\n",
              "      <td>NaN</td>\n",
              "    </tr>\n",
              "  </tbody>\n",
              "</table>\n",
              "<p>9003 rows × 15 columns</p>\n",
              "</div>\n",
              "      <button class=\"colab-df-convert\" onclick=\"convertToInteractive('df-fadc6d6b-d91e-4f22-9f2a-80c48f59b777')\"\n",
              "              title=\"Convert this dataframe to an interactive table.\"\n",
              "              style=\"display:none;\">\n",
              "        \n",
              "  <svg xmlns=\"http://www.w3.org/2000/svg\" height=\"24px\"viewBox=\"0 0 24 24\"\n",
              "       width=\"24px\">\n",
              "    <path d=\"M0 0h24v24H0V0z\" fill=\"none\"/>\n",
              "    <path d=\"M18.56 5.44l.94 2.06.94-2.06 2.06-.94-2.06-.94-.94-2.06-.94 2.06-2.06.94zm-11 1L8.5 8.5l.94-2.06 2.06-.94-2.06-.94L8.5 2.5l-.94 2.06-2.06.94zm10 10l.94 2.06.94-2.06 2.06-.94-2.06-.94-.94-2.06-.94 2.06-2.06.94z\"/><path d=\"M17.41 7.96l-1.37-1.37c-.4-.4-.92-.59-1.43-.59-.52 0-1.04.2-1.43.59L10.3 9.45l-7.72 7.72c-.78.78-.78 2.05 0 2.83L4 21.41c.39.39.9.59 1.41.59.51 0 1.02-.2 1.41-.59l7.78-7.78 2.81-2.81c.8-.78.8-2.07 0-2.86zM5.41 20L4 18.59l7.72-7.72 1.47 1.35L5.41 20z\"/>\n",
              "  </svg>\n",
              "      </button>\n",
              "      \n",
              "  <style>\n",
              "    .colab-df-container {\n",
              "      display:flex;\n",
              "      flex-wrap:wrap;\n",
              "      gap: 12px;\n",
              "    }\n",
              "\n",
              "    .colab-df-convert {\n",
              "      background-color: #E8F0FE;\n",
              "      border: none;\n",
              "      border-radius: 50%;\n",
              "      cursor: pointer;\n",
              "      display: none;\n",
              "      fill: #1967D2;\n",
              "      height: 32px;\n",
              "      padding: 0 0 0 0;\n",
              "      width: 32px;\n",
              "    }\n",
              "\n",
              "    .colab-df-convert:hover {\n",
              "      background-color: #E2EBFA;\n",
              "      box-shadow: 0px 1px 2px rgba(60, 64, 67, 0.3), 0px 1px 3px 1px rgba(60, 64, 67, 0.15);\n",
              "      fill: #174EA6;\n",
              "    }\n",
              "\n",
              "    [theme=dark] .colab-df-convert {\n",
              "      background-color: #3B4455;\n",
              "      fill: #D2E3FC;\n",
              "    }\n",
              "\n",
              "    [theme=dark] .colab-df-convert:hover {\n",
              "      background-color: #434B5C;\n",
              "      box-shadow: 0px 1px 3px 1px rgba(0, 0, 0, 0.15);\n",
              "      filter: drop-shadow(0px 1px 2px rgba(0, 0, 0, 0.3));\n",
              "      fill: #FFFFFF;\n",
              "    }\n",
              "  </style>\n",
              "\n",
              "      <script>\n",
              "        const buttonEl =\n",
              "          document.querySelector('#df-fadc6d6b-d91e-4f22-9f2a-80c48f59b777 button.colab-df-convert');\n",
              "        buttonEl.style.display =\n",
              "          google.colab.kernel.accessAllowed ? 'block' : 'none';\n",
              "\n",
              "        async function convertToInteractive(key) {\n",
              "          const element = document.querySelector('#df-fadc6d6b-d91e-4f22-9f2a-80c48f59b777');\n",
              "          const dataTable =\n",
              "            await google.colab.kernel.invokeFunction('convertToInteractive',\n",
              "                                                     [key], {});\n",
              "          if (!dataTable) return;\n",
              "\n",
              "          const docLinkHtml = 'Like what you see? Visit the ' +\n",
              "            '<a target=\"_blank\" href=https://colab.research.google.com/notebooks/data_table.ipynb>data table notebook</a>'\n",
              "            + ' to learn more about interactive tables.';\n",
              "          element.innerHTML = '';\n",
              "          dataTable['output_type'] = 'display_data';\n",
              "          await google.colab.output.renderOutput(dataTable, element);\n",
              "          const docLink = document.createElement('div');\n",
              "          docLink.innerHTML = docLinkHtml;\n",
              "          element.appendChild(docLink);\n",
              "        }\n",
              "      </script>\n",
              "    </div>\n",
              "  </div>\n",
              "  "
            ]
          },
          "metadata": {},
          "execution_count": 11
        }
      ]
    },
    {
      "cell_type": "code",
      "source": [
        "data.info()"
      ],
      "metadata": {
        "colab": {
          "base_uri": "https://localhost:8080/"
        },
        "id": "KlITOzx-axYP",
        "outputId": "cc346717-57c5-44aa-aa24-71761e2bdc93"
      },
      "execution_count": 12,
      "outputs": [
        {
          "output_type": "stream",
          "name": "stdout",
          "text": [
            "<class 'pandas.core.frame.DataFrame'>\n",
            "RangeIndex: 9003 entries, 0 to 9002\n",
            "Data columns (total 15 columns):\n",
            " #   Column             Non-Null Count  Dtype  \n",
            "---  ------             --------------  -----  \n",
            " 0   bite_date          8686 non-null   object \n",
            " 1   SpeciesIDDesc      8885 non-null   object \n",
            " 2   BreedIDDesc        3759 non-null   object \n",
            " 3   GenderIDDesc       6477 non-null   object \n",
            " 4   color              6426 non-null   object \n",
            " 5   vaccination_yrs    3738 non-null   float64\n",
            " 6   vaccination_date   4115 non-null   object \n",
            " 7   victim_zip         7165 non-null   object \n",
            " 8   AdvIssuedYNDesc    2565 non-null   object \n",
            " 9   WhereBittenIDDesc  8387 non-null   object \n",
            " 10  quarantine_date    2020 non-null   object \n",
            " 11  DispositionIDDesc  1535 non-null   object \n",
            " 12  head_sent_date     395 non-null    object \n",
            " 13  release_date       1445 non-null   object \n",
            " 14  ResultsIDDesc      1543 non-null   object \n",
            "dtypes: float64(1), object(14)\n",
            "memory usage: 1.0+ MB\n"
          ]
        }
      ]
    },
    {
      "cell_type": "code",
      "source": [
        "data.describe()"
      ],
      "metadata": {
        "colab": {
          "base_uri": "https://localhost:8080/",
          "height": 300
        },
        "id": "Fqzosr44axUZ",
        "outputId": "488469f6-05d1-4856-e079-3bfb2ee8b50a"
      },
      "execution_count": 13,
      "outputs": [
        {
          "output_type": "execute_result",
          "data": {
            "text/plain": [
              "       vaccination_yrs\n",
              "count      3738.000000\n",
              "mean          1.452113\n",
              "std           0.848416\n",
              "min           1.000000\n",
              "25%           1.000000\n",
              "50%           1.000000\n",
              "75%           1.000000\n",
              "max          11.000000"
            ],
            "text/html": [
              "\n",
              "  <div id=\"df-97bf443e-2717-43d3-aa71-3d613bce4aa1\">\n",
              "    <div class=\"colab-df-container\">\n",
              "      <div>\n",
              "<style scoped>\n",
              "    .dataframe tbody tr th:only-of-type {\n",
              "        vertical-align: middle;\n",
              "    }\n",
              "\n",
              "    .dataframe tbody tr th {\n",
              "        vertical-align: top;\n",
              "    }\n",
              "\n",
              "    .dataframe thead th {\n",
              "        text-align: right;\n",
              "    }\n",
              "</style>\n",
              "<table border=\"1\" class=\"dataframe\">\n",
              "  <thead>\n",
              "    <tr style=\"text-align: right;\">\n",
              "      <th></th>\n",
              "      <th>vaccination_yrs</th>\n",
              "    </tr>\n",
              "  </thead>\n",
              "  <tbody>\n",
              "    <tr>\n",
              "      <th>count</th>\n",
              "      <td>3738.000000</td>\n",
              "    </tr>\n",
              "    <tr>\n",
              "      <th>mean</th>\n",
              "      <td>1.452113</td>\n",
              "    </tr>\n",
              "    <tr>\n",
              "      <th>std</th>\n",
              "      <td>0.848416</td>\n",
              "    </tr>\n",
              "    <tr>\n",
              "      <th>min</th>\n",
              "      <td>1.000000</td>\n",
              "    </tr>\n",
              "    <tr>\n",
              "      <th>25%</th>\n",
              "      <td>1.000000</td>\n",
              "    </tr>\n",
              "    <tr>\n",
              "      <th>50%</th>\n",
              "      <td>1.000000</td>\n",
              "    </tr>\n",
              "    <tr>\n",
              "      <th>75%</th>\n",
              "      <td>1.000000</td>\n",
              "    </tr>\n",
              "    <tr>\n",
              "      <th>max</th>\n",
              "      <td>11.000000</td>\n",
              "    </tr>\n",
              "  </tbody>\n",
              "</table>\n",
              "</div>\n",
              "      <button class=\"colab-df-convert\" onclick=\"convertToInteractive('df-97bf443e-2717-43d3-aa71-3d613bce4aa1')\"\n",
              "              title=\"Convert this dataframe to an interactive table.\"\n",
              "              style=\"display:none;\">\n",
              "        \n",
              "  <svg xmlns=\"http://www.w3.org/2000/svg\" height=\"24px\"viewBox=\"0 0 24 24\"\n",
              "       width=\"24px\">\n",
              "    <path d=\"M0 0h24v24H0V0z\" fill=\"none\"/>\n",
              "    <path d=\"M18.56 5.44l.94 2.06.94-2.06 2.06-.94-2.06-.94-.94-2.06-.94 2.06-2.06.94zm-11 1L8.5 8.5l.94-2.06 2.06-.94-2.06-.94L8.5 2.5l-.94 2.06-2.06.94zm10 10l.94 2.06.94-2.06 2.06-.94-2.06-.94-.94-2.06-.94 2.06-2.06.94z\"/><path d=\"M17.41 7.96l-1.37-1.37c-.4-.4-.92-.59-1.43-.59-.52 0-1.04.2-1.43.59L10.3 9.45l-7.72 7.72c-.78.78-.78 2.05 0 2.83L4 21.41c.39.39.9.59 1.41.59.51 0 1.02-.2 1.41-.59l7.78-7.78 2.81-2.81c.8-.78.8-2.07 0-2.86zM5.41 20L4 18.59l7.72-7.72 1.47 1.35L5.41 20z\"/>\n",
              "  </svg>\n",
              "      </button>\n",
              "      \n",
              "  <style>\n",
              "    .colab-df-container {\n",
              "      display:flex;\n",
              "      flex-wrap:wrap;\n",
              "      gap: 12px;\n",
              "    }\n",
              "\n",
              "    .colab-df-convert {\n",
              "      background-color: #E8F0FE;\n",
              "      border: none;\n",
              "      border-radius: 50%;\n",
              "      cursor: pointer;\n",
              "      display: none;\n",
              "      fill: #1967D2;\n",
              "      height: 32px;\n",
              "      padding: 0 0 0 0;\n",
              "      width: 32px;\n",
              "    }\n",
              "\n",
              "    .colab-df-convert:hover {\n",
              "      background-color: #E2EBFA;\n",
              "      box-shadow: 0px 1px 2px rgba(60, 64, 67, 0.3), 0px 1px 3px 1px rgba(60, 64, 67, 0.15);\n",
              "      fill: #174EA6;\n",
              "    }\n",
              "\n",
              "    [theme=dark] .colab-df-convert {\n",
              "      background-color: #3B4455;\n",
              "      fill: #D2E3FC;\n",
              "    }\n",
              "\n",
              "    [theme=dark] .colab-df-convert:hover {\n",
              "      background-color: #434B5C;\n",
              "      box-shadow: 0px 1px 3px 1px rgba(0, 0, 0, 0.15);\n",
              "      filter: drop-shadow(0px 1px 2px rgba(0, 0, 0, 0.3));\n",
              "      fill: #FFFFFF;\n",
              "    }\n",
              "  </style>\n",
              "\n",
              "      <script>\n",
              "        const buttonEl =\n",
              "          document.querySelector('#df-97bf443e-2717-43d3-aa71-3d613bce4aa1 button.colab-df-convert');\n",
              "        buttonEl.style.display =\n",
              "          google.colab.kernel.accessAllowed ? 'block' : 'none';\n",
              "\n",
              "        async function convertToInteractive(key) {\n",
              "          const element = document.querySelector('#df-97bf443e-2717-43d3-aa71-3d613bce4aa1');\n",
              "          const dataTable =\n",
              "            await google.colab.kernel.invokeFunction('convertToInteractive',\n",
              "                                                     [key], {});\n",
              "          if (!dataTable) return;\n",
              "\n",
              "          const docLinkHtml = 'Like what you see? Visit the ' +\n",
              "            '<a target=\"_blank\" href=https://colab.research.google.com/notebooks/data_table.ipynb>data table notebook</a>'\n",
              "            + ' to learn more about interactive tables.';\n",
              "          element.innerHTML = '';\n",
              "          dataTable['output_type'] = 'display_data';\n",
              "          await google.colab.output.renderOutput(dataTable, element);\n",
              "          const docLink = document.createElement('div');\n",
              "          docLink.innerHTML = docLinkHtml;\n",
              "          element.appendChild(docLink);\n",
              "        }\n",
              "      </script>\n",
              "    </div>\n",
              "  </div>\n",
              "  "
            ]
          },
          "metadata": {},
          "execution_count": 13
        }
      ]
    },
    {
      "cell_type": "code",
      "source": [
        "import seaborn as sns\n",
        "import matplotlib \n",
        "import matplotlib.pyplot as plt \n",
        "%matplotlib inline\n",
        "import numpy as np #linear algebra\n",
        "import pandas as pd # data processing, CSV file I/O (e.g. pd.read_csv)\n",
        "import seaborn as sns # visualization library\n",
        "import matplotlib.patches as patches\n",
        "\n",
        "sns.set_style(\"darkgrid\")\n",
        "matplotlib.rcParams[\"font.size\"] = 14\n",
        "matplotlib.rcParams[\"figure.figsize\"] = (9, 5)\n",
        "matplotlib.rcParams[\"figure.facecolor\"] = \"#00000000\""
      ],
      "metadata": {
        "id": "L-r3cJJLaxR2"
      },
      "execution_count": 14,
      "outputs": []
    },
    {
      "cell_type": "code",
      "source": [
        ""
      ],
      "metadata": {
        "id": "BXbtU-FftPdi"
      },
      "execution_count": 14,
      "outputs": []
    },
    {
      "cell_type": "code",
      "source": [
        "#The different 9 animals in the data given \n",
        "sns.histplot(data.SpeciesIDDesc)"
      ],
      "metadata": {
        "colab": {
          "base_uri": "https://localhost:8080/",
          "height": 359
        },
        "id": "NATQJmR0axL2",
        "outputId": "c6275b93-cd4d-450e-d77b-f44e591fc1bd"
      },
      "execution_count": 15,
      "outputs": [
        {
          "output_type": "execute_result",
          "data": {
            "text/plain": [
              "<matplotlib.axes._subplots.AxesSubplot at 0x7f6b5cfc7d50>"
            ]
          },
          "metadata": {},
          "execution_count": 15
        },
        {
          "output_type": "display_data",
          "data": {
            "text/plain": [
              "<Figure size 648x360 with 1 Axes>"
            ],
            "image/png": "[encoded data removed]"
          },
          "metadata": {
            "needs_background": "light"
          }
        }
      ]
    },
    {
      "cell_type": "code",
      "source": [
        "species = data.SpeciesIDDesc\n",
        "species = species.dropna() #The command was used to drop nan values in species feature\n",
        "speciesOfAnimal = species.unique()\n",
        "print(speciesOfAnimal)"
      ],
      "metadata": {
        "colab": {
          "base_uri": "https://localhost:8080/"
        },
        "id": "JuTGfM3qDweN",
        "outputId": "94a99c94-89b2-4d9d-a702-e314e20c7338"
      },
      "execution_count": 16,
      "outputs": [
        {
          "output_type": "stream",
          "name": "stdout",
          "text": [
            "['DOG' 'CAT' 'BAT' 'RACCOON' 'OTHER' 'RABBIT' 'HORSE' 'SKUNK' 'FERRET']\n"
          ]
        }
      ]
    },
    {
      "cell_type": "code",
      "source": [
        "#Number of species that bite the most \n",
        "animal_list = [ ]\n",
        "for i in speciesOfAnimal:\n",
        "\tanimal_list.append(len(species[species==i]))\n",
        "ax = sns.barplot(x=speciesOfAnimal, y=animal_list)\n",
        "plt.title('Number of Species Bite')\n",
        "print(animal_list)"
      ],
      "metadata": {
        "colab": {
          "base_uri": "https://localhost:8080/",
          "height": 361
        },
        "id": "1UrB7hcV2dbJ",
        "outputId": "0fc09acd-2cbf-4af6-f231-9f7cbfaf60b6"
      },
      "execution_count": 18,
      "outputs": [
        {
          "output_type": "stream",
          "name": "stdout",
          "text": [
            "[7029, 1568, 237, 27, 11, 3, 5, 1, 4]\n"
          ]
        },
        {
          "output_type": "display_data",
          "data": {
            "text/plain": [
              "<Figure size 648x360 with 1 Axes>"
            ],
            "image/png": "[encoded data removed]"
          },
          "metadata": {
            "needs_background": "light"
          }
        }
      ]
    },
    {
      "cell_type": "code",
      "source": [
        "#Determining what dog breeds given in the dataset\n",
        "breed = data.BreedIDDesc\n",
        "breed = breed.dropna() #The command was used to drop nan values in species feature\n",
        "breed = breed.drop_duplicates()\n",
        "breedOfAnimal = breed.unique()\n",
        "print(breedOfAnimal)"
      ],
      "metadata": {
        "colab": {
          "base_uri": "https://localhost:8080/"
        },
        "id": "9pVgy2YjPs8s",
        "outputId": "47ce4b0d-8729-42b0-97da-8132060be641"
      },
      "execution_count": 19,
      "outputs": [
        {
          "output_type": "stream",
          "name": "stdout",
          "text": [
            "['GERM SHEPHERD' 'DACHSHUND' 'PIT BULL' 'SHIH TZU' 'COCKER SPAINEL'\n",
            " 'CHICHAUHUA' 'BEAGLE' 'CHOW CHOW' 'OTHER' 'BOXER' 'AAUST. TERR.'\n",
            " 'GOLD RETRIEVER' 'LABRADOR RETRIV' 'BULLMASTIFF' 'BORDER COLLIE'\n",
            " 'POMERANIAN' 'YORKSHIRE TERRIER' 'GREYHOUND' 'ROTTWEILER'\n",
            " 'AMER. BULL DOG' 'DALMATIAN' 'HUSKY' 'BULL DOG' 'MASTIF'\n",
            " 'GREAT PYRENEESE' 'GREAT DANE' 'POODLE' 'SIBERAN HUSKY' 'WEIMARANER'\n",
            " 'CORGI' 'BOSTON TERRIER' 'SCHNAUZER' 'BASSET HOUND' 'MIN PIN'\n",
            " 'WELSH CORGI' 'AM BULLDOG' 'SAMOYED' 'MALTASE' 'AKITA' 'SHELTIE'\n",
            " 'LHASA APSO' 'SAINT BERNARD' 'AIREDALE TER.' 'AM. ESKIMO' 'BICHON FRISE'\n",
            " 'PUG' 'DOBERMAN' 'DOTSON' 'NEW FOUNDLAND' 'BERNESEN MT.' 'HAVANESE'\n",
            " 'ENGLISH SETTER' 'SHAR-PEI' 'COCKAPOO' 'OLD ENG SHP DOG' 'WESTIE'\n",
            " 'BOUVIER' 'RAT TERRIER' 'SHEEP DOG' 'HEELER' 'PEKINGESE'\n",
            " 'FOX TERRIER MIX' 'ENGLISH BULLDOG' 'BORDER COLLIE M' 'BASANJI' 'PYRENES'\n",
            " 'BLOOD HOUND' 'COLLIE' 'ALASK. MALAMUTE' 'BRITNEY SPANIEL' 'BICHON FRESE'\n",
            " 'FOX TERRIER' 'BLUE HEELER' 'CATAHOULA' 'CANE CORSO' 'IRISH SETTER'\n",
            " 'ENGLISH SHEPARD' 'ENG. MASTIFF' 'BLACK LAB' 'SCOTTISH TER.'\n",
            " 'LAKELAND TER.' 'COON HOUND' 'CHOCOLATE LAB.' 'BOX TERRIER' 'CATTLE DOG'\n",
            " 'SPITZ' 'TOY POODLE' 'FRENCH BULLDOG' 'BRIARD' 'ST BERNARD' 'GOLDEN LAB'\n",
            " 'TOY FOX TERRIER' 'RED HEELER' 'WEINER DOG' 'MALAMUTE' 'IRISH SPANIEL'\n",
            " 'BESINJI' 'BEARDED COLLIE' 'STAN POODLE' 'AMER FOX HOUND'\n",
            " 'IRISH WOLFHOUND']\n"
          ]
        }
      ]
    },
    {
      "cell_type": "code",
      "source": [
        "breed = data.BreedIDDesc.value_counts()\n",
        "len(breed)\n",
        "breed[0:10]"
      ],
      "metadata": {
        "colab": {
          "base_uri": "https://localhost:8080/"
        },
        "id": "v1EejSc0u_WL",
        "outputId": "3880859a-b793-407b-c2af-3b1a6e1fac24"
      },
      "execution_count": 20,
      "outputs": [
        {
          "output_type": "execute_result",
          "data": {
            "text/plain": [
              "PIT BULL           1102\n",
              "GERM SHEPHERD       327\n",
              "LABRADOR RETRIV     253\n",
              "BOXER               181\n",
              "CHICHAUHUA          165\n",
              "SHIH TZU            119\n",
              "BEAGLE              116\n",
              "ROTTWEILER           86\n",
              "AAUST. TERR.         78\n",
              "DACHSHUND            67\n",
              "Name: BreedIDDesc, dtype: int64"
            ]
          },
          "metadata": {},
          "execution_count": 20
        }
      ]
    },
    {
      "cell_type": "code",
      "source": [
        "#Plotting a graph listing which dog breeds bite the most \n",
        "count = data.BreedIDDesc.value_counts()\n",
        "plt.figure(figsize=(15,8))\n",
        "ax = sns.barplot(x=count[0:10].index,y=count[0:10])\n",
        "plt.xticks(rotation=20)\n",
        "plt.ylabel(\"Number of Bite\")\n",
        "plt.savefig('graph.png')\n",
        "\n",
        "print(count[0:10].index)"
      ],
      "metadata": {
        "colab": {
          "base_uri": "https://localhost:8080/",
          "height": 583
        },
        "id": "qEKgLJ1bu-3F",
        "outputId": "cfb9446a-99a0-46e4-e7fc-6d71dca93e54"
      },
      "execution_count": 37,
      "outputs": [
        {
          "output_type": "stream",
          "name": "stdout",
          "text": [
            "Index(['PIT BULL', 'GERM SHEPHERD', 'LABRADOR RETRIV', 'BOXER', 'CHICHAUHUA',\n",
            "       'SHIH TZU', 'BEAGLE', 'ROTTWEILER', 'AAUST. TERR.', 'DACHSHUND'],\n",
            "      dtype='object')\n"
          ]
        },
        {
          "output_type": "display_data",
          "data": {
            "text/plain": [
              "<Figure size 1080x576 with 1 Axes>"
            ],
            "image/png": "[encoded data removed]"
          },
          "metadata": {
            "needs_background": "light"
          }
        }
      ]
    },
    {
      "cell_type": "code",
      "source": [
        "#Determine what gender of dogs bite the most \n",
        "count_gender = data.GenderIDDesc.value_counts()\n",
        "gender = ['MALE','FEMALE','UNKONWN']\n",
        "plt.figure(figsize= (7,8))\n",
        "x = sns.barplot(x=gender, y= count_gender[0:3])\n",
        "plt.ylabel('Number of Bite ')\n",
        "plt.title('Male vs female vs unknown')\n",
        "print(count_gender[0:3])"
      ],
      "metadata": {
        "colab": {
          "base_uri": "https://localhost:8080/",
          "height": 576
        },
        "id": "PNkA9Aepu-wG",
        "outputId": "a1c5dd79-ea2f-4125-e092-8250db89b506"
      },
      "execution_count": 38,
      "outputs": [
        {
          "output_type": "stream",
          "name": "stdout",
          "text": [
            "MALE       3832\n",
            "FEMALE     2016\n",
            "UNKNOWN     629\n",
            "Name: GenderIDDesc, dtype: int64\n"
          ]
        },
        {
          "output_type": "display_data",
          "data": {
            "text/plain": [
              "<Figure size 504x576 with 1 Axes>"
            ],
            "image/png": "[encoded data removed]"
          },
          "metadata": {
            "needs_background": "light"
          }
        }
      ]
    },
    {
      "cell_type": "code",
      "source": [
        "#Plotting a graph listing which dog breeds bite the most \n",
        "count = data.BreedIDDesc.value_counts()\n",
        "plt.figure(figsize=(15,8))\n",
        "ax = sns.barplot(x=count[0:10].index,y=count[0:10])\n",
        "plt.xticks(rotation=20)\n",
        "plt.ylabel(\"Number of Bite\")\n",
        "plt.savefig('graph.png')\n",
        "\n",
        "print(count[0:10].index)"
      ],
      "metadata": {
        "id": "29iXyYOIbJJl"
      },
      "execution_count": null,
      "outputs": []
    },
    {
      "cell_type": "code",
      "source": [
        "count_bite = data.WhereBittenIDDesc.value_counts()\n",
        "ax = sns.barplot(x=count_bite[0:3].index,y=count_bite[0:3])\n",
        "plt.ylabel(\"Location BItten\")\n",
        "print(count_bite[0:3].index)"
      ],
      "metadata": {
        "colab": {
          "base_uri": "https://localhost:8080/",
          "height": 341
        },
        "id": "JPyGts0Hu-q-",
        "outputId": "34b6eb4d-a662-4de4-fba2-0d63fb097915"
      },
      "execution_count": 36,
      "outputs": [
        {
          "output_type": "stream",
          "name": "stdout",
          "text": [
            "Index(['BODY', 'HEAD', 'UNKNOWN'], dtype='object')\n"
          ]
        },
        {
          "output_type": "display_data",
          "data": {
            "text/plain": [
              "<Figure size 648x360 with 1 Axes>"
            ],
            "image/png": "[encoded data removed]"
          },
          "metadata": {
            "needs_background": "light"
          }
        }
      ]
    },
    {
      "cell_type": "code",
      "source": [
        ""
      ],
      "metadata": {
        "id": "MnrRDyXncT4z"
      },
      "execution_count": null,
      "outputs": []
    },
    {
      "cell_type": "markdown",
      "source": [
        "Conclusion \n",
        "\n",
        "* Dogs are the most likely the bite humans\n",
        "* Pitbulls are the dog breeds more likely to bite has it as bitten 1102 people \n",
        "\n",
        "* Male dogs are more dangerous due to the analysis \n",
        "\n",
        "* The Data shows the Body is where Animals are most likelt to bute humans\n",
        "\n"
      ],
      "metadata": {
        "id": "6CFVmlfjYXO6"
      }
    },
    {
      "cell_type": "code",
      "source": [
        ""
      ],
      "metadata": {
        "id": "cSB8AJAyu-n9"
      },
      "execution_count": null,
      "outputs": []
    },
    {
      "cell_type": "code",
      "source": [
        ""
      ],
      "metadata": {
        "id": "OkX7HJCMu-lH"
      },
      "execution_count": null,
      "outputs": []
    },
    {
      "cell_type": "code",
      "source": [
        ""
      ],
      "metadata": {
        "id": "CVu-eBURu-h_"
      },
      "execution_count": null,
      "outputs": []
    },
    {
      "cell_type": "code",
      "source": [
        ""
      ],
      "metadata": {
        "id": "XW4ApuWzu-ZG"
      },
      "execution_count": null,
      "outputs": []
    },
    {
      "cell_type": "code",
      "source": [
        ""
      ],
      "metadata": {
        "id": "Wu0jc-6qu-LX"
      },
      "execution_count": null,
      "outputs": []
    }
  ]
}